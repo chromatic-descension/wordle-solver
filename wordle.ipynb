{
 "cells": [
  {
   "cell_type": "code",
   "execution_count": 4,
   "metadata": {},
   "outputs": [
    {
     "name": "stdout",
     "output_type": "stream",
     "text": [
      "--2022-02-07 23:46:36--  https://raw.githubusercontent.com/dwyl/english-words/master/words_alpha.txt\n",
      "Resolving raw.githubusercontent.com (raw.githubusercontent.com)... 185.199.108.133, 185.199.109.133, 185.199.111.133, ...\n",
      "Connecting to raw.githubusercontent.com (raw.githubusercontent.com)|185.199.108.133|:443... connected.\n",
      "HTTP request sent, awaiting response... 200 OK\n",
      "Length: 4234901 (4.0M) [text/plain]\n",
      "Saving to: ‘words.txt’\n",
      "\n",
      "words.txt           100%[===================>]   4.04M  14.5MB/s    in 0.3s    \n",
      "\n",
      "2022-02-07 23:46:36 (14.5 MB/s) - ‘words.txt’ saved [4234901/4234901]\n",
      "\n"
     ]
    }
   ],
   "source": [
    "! wget https://raw.githubusercontent.com/dwyl/english-words/master/words_alpha.txt -O words.txt"
   ]
  },
  {
   "cell_type": "code",
   "execution_count": 93,
   "metadata": {},
   "outputs": [
    {
     "name": "stdout",
     "output_type": "stream",
     "text": [
      "Word #1237 is \"academised\".\n"
     ]
    }
   ],
   "source": [
    "# Read the dictionary into a list.\n",
    "with open('words.txt') as file:\n",
    "    ALL_WORDS = []\n",
    "    for line in file:\n",
    "        ALL_WORDS.append(line.rstrip())\n",
    "\n",
    "print(f'Word #1237 is \"{ALL_WORDS[1237]}\".')"
   ]
  },
  {
   "cell_type": "code",
   "execution_count": 94,
   "metadata": {},
   "outputs": [
    {
     "name": "stdout",
     "output_type": "stream",
     "text": [
      "1-letter words: 26\n",
      "2-letter words: 427\n",
      "3-letter words: 2130\n",
      "4-letter words: 7186\n",
      "5-letter words: 15918\n",
      "6-letter words: 29874\n",
      "7-letter words: 41998\n",
      "8-letter words: 51627\n",
      "9-letter words: 53402\n",
      "10-letter words: 45872\n",
      "11-letter words: 37539\n",
      "12-letter words: 29125\n",
      "13-letter words: 20944\n",
      "14-letter words: 14149\n"
     ]
    }
   ],
   "source": [
    "def filter_by_length(words, length):\n",
    "    return list(filter(lambda x: len(x) == length, words))\n",
    "\n",
    "for i in range(1,15):\n",
    "    print(f'{i}-letter words: {len(filter_by_length(ALL_WORDS, i))}')"
   ]
  },
  {
   "cell_type": "code",
   "execution_count": 102,
   "metadata": {},
   "outputs": [
    {
     "name": "stdout",
     "output_type": "stream",
     "text": [
      "Words with at least 4 z's in them: ['pizzazz', 'pizzazzes', 'razzmatazz'].\n",
      "Words with at least 4 z's in them AND no p's: ['razzmatazz'].\n"
     ]
    }
   ],
   "source": [
    "def filter_by_minimum(words, letter, minimum=1):\n",
    "    return list(filter(lambda x: x.count(letter) >= minimum, words))\n",
    "\n",
    "def filter_by_maximum(words, letter, maximum):\n",
    "    return list(filter(lambda x: x.count(letter) <= maximum, words))\n",
    "\n",
    "print(f'Words with at least 4 z\\'s in them: {filter_by_minimum(ALL_WORDS, \"z\", minimum=4)}.')\n",
    "\n",
    "print(f'Words with at least 4 z\\'s in them AND no p\\'s: {filter_by_maximum(filter_by_minimum(ALL_WORDS, \"z\", minimum=4), \"p\", maximum=0)}.')"
   ]
  },
  {
   "cell_type": "code",
   "execution_count": 96,
   "metadata": {},
   "outputs": [
    {
     "name": "stdout",
     "output_type": "stream",
     "text": [
      "Words with an x in the 17th place: ['hydropneumothorax', 'pneumohydrothorax']\n"
     ]
    }
   ],
   "source": [
    "def filter_by_position(words, letter, position):\n",
    "    return list(filter(lambda x: position < len(x) and x[position] == letter, words))\n",
    "\n",
    "print(f'Words with an x in the 17th place: {filter_by_position(ALL_WORDS, \"x\", 16)}')"
   ]
  },
  {
   "cell_type": "code",
   "execution_count": 98,
   "metadata": {},
   "outputs": [],
   "source": [
    "import random\n",
    "import string\n",
    "\n",
    "class Wordle:\n",
    "\n",
    "    def __init__(self, length=5):\n",
    "        self.word = random.choice(filter_by_length(ALL_WORDS, length))\n",
    "\n",
    "    def __get_letter_count(self):\n",
    "        return {x: self.word.count(x) for x in string.ascii_lowercase}\n",
    "\n",
    "    def guess(self, guess):\n",
    "        assert(len(guess) == len(self.word))\n",
    "        letter_count = self.__get_letter_count()\n",
    "        result = [None] * len(self.word)\n",
    "        # Add correct guesses to result first.\n",
    "        for i, letter in enumerate(guess):\n",
    "            if self.word[i] == letter:\n",
    "                result[i] = (0, letter)\n",
    "                letter_count[letter] -= 1\n",
    "        ## Add incorrect guesses to result.\n",
    "        for i, letter in enumerate(guess):\n",
    "            if result[i] == None:\n",
    "                if letter_count[letter] > 0:\n",
    "                    result[i] = (1, letter)\n",
    "                else:\n",
    "                    result[i] = (2, letter)\n",
    "                letter_count[letter] -= 1\n",
    "        return result\n"
   ]
  },
  {
   "cell_type": "code",
   "execution_count": 187,
   "metadata": {},
   "outputs": [
    {
     "name": "stdout",
     "output_type": "stream",
     "text": [
      "\u001b[33ms\u001b[0m\u001b[31mk\u001b[0m\u001b[31mi\u001b[0m\u001b[31me\u001b[0m\u001b[31mr\u001b[0m\n",
      "\u001b[31mw\u001b[0m\u001b[33ma\u001b[0m\u001b[33mt\u001b[0m\u001b[31mc\u001b[0m\u001b[31mh\u001b[0m\n",
      "\u001b[31mb\u001b[0m\u001b[31mu\u001b[0m\u001b[31mm\u001b[0m\u001b[31mp\u001b[0m\u001b[31my\u001b[0m\n",
      "\u001b[31ml\u001b[0m\u001b[32mo\u001b[0m\u001b[33md\u001b[0m\u001b[31mg\u001b[0m\u001b[31me\u001b[0m\n"
     ]
    }
   ],
   "source": [
    "from termcolor import colored\n",
    "\n",
    "def pretty_guess_result(guess_result):\n",
    "    colors = {0: 'green', 1: 'yellow', 2: 'red'}\n",
    "    result = ''\n",
    "    for guess in guess_result:\n",
    "        result += colored(guess[1], colors[guess[0]])\n",
    "    return result\n",
    "\n",
    "game = Wordle()\n",
    "\n",
    "print(pretty_guess_result(game.guess('skier')))\n",
    "print(pretty_guess_result(game.guess('watch')))\n",
    "print(pretty_guess_result(game.guess('bumpy')))\n",
    "print(pretty_guess_result(game.guess('lodge')))\n"
   ]
  },
  {
   "cell_type": "code",
   "execution_count": 222,
   "metadata": {},
   "outputs": [
    {
     "name": "stdout",
     "output_type": "stream",
     "text": [
      "Starting a game with a 5-letter word.\n",
      "\u001b[31mi\u001b[0m\u001b[31mf\u001b[0m\u001b[31mr\u001b[0m\u001b[31mi\u001b[0m\u001b[31mt\u001b[0m\n",
      "\u001b[31mb\u001b[0m\u001b[33mu\u001b[0m\u001b[31ml\u001b[0m\u001b[31mg\u001b[0m\u001b[31me\u001b[0m\n",
      "\u001b[32mk\u001b[0m\u001b[31ma\u001b[0m\u001b[31ms\u001b[0m\u001b[31ms\u001b[0m\u001b[33mu\u001b[0m\n",
      "\u001b[32mk\u001b[0m\u001b[33mu\u001b[0m\u001b[31md\u001b[0m\u001b[31mz\u001b[0m\u001b[31mu\u001b[0m\n",
      "\u001b[32mk\u001b[0m\u001b[33mu\u001b[0m\u001b[33mm\u001b[0m\u001b[31my\u001b[0m\u001b[33mk\u001b[0m\n",
      "\u001b[32mk\u001b[0m\u001b[32mo\u001b[0m\u001b[32mk\u001b[0m\u001b[32mu\u001b[0m\u001b[32mm\u001b[0m\n",
      "The word was: \"kokum\".\n"
     ]
    }
   ],
   "source": [
    "class Agent:\n",
    "\n",
    "    def __init__(self, length=5):\n",
    "        self.words_remaining = filter_by_length(ALL_WORDS, length)\n",
    "\n",
    "    def guess(self):\n",
    "        return random.choice(self.words_remaining)\n",
    "    \n",
    "    def update_with_guess_result(self, guess_result):\n",
    "        min_count = {}\n",
    "        max_count = {}\n",
    "        for i, letter_guess in enumerate(guess_result):\n",
    "            score = letter_guess[0]\n",
    "            letter = letter_guess[1]\n",
    "            # Filter correct letters\n",
    "            if score == 0:\n",
    "                # print(f'...filtering words without \"{letter}\" in position {i}')\n",
    "                self.words_remaining = filter_by_position(self.words_remaining, letter, i)\n",
    "            # Count correct and partially correct letters\n",
    "            if score <= 1:\n",
    "                min_count[letter] = min_count.get(letter, 0) + 1\n",
    "                if letter in max_count:\n",
    "                    max_count[letter] = min_count[letter]\n",
    "            elif score == 2:\n",
    "                max_count[letter] = min_count.get(letter, 0)\n",
    "        for letter in min_count.keys():\n",
    "            # print(f'...filtering by minimum {min_count[letter]} of \"{letter}\"')\n",
    "            self.words_remaining = filter_by_minimum(self.words_remaining, letter, min_count[letter])\n",
    "        for letter in max_count.keys():\n",
    "            # print(f'...filtering by maximum {max_count[letter]} of \"{letter}\"')\n",
    "            self.words_remaining = filter_by_maximum(self.words_remaining, letter, max_count[letter])\n",
    "        \n",
    "\n",
    "def play_game_simple(length=5):\n",
    "    game = Wordle(length=length)\n",
    "    agent = Agent(length=length)\n",
    "\n",
    "    print(f'Starting a game with a {length}-letter word.')\n",
    "    while True:\n",
    "        word = agent.guess()\n",
    "        result = game.guess(word)\n",
    "        agent.update_with_guess_result(result)\n",
    "        print(pretty_guess_result(result))\n",
    "        if word == game.word:\n",
    "            break\n",
    "\n",
    "\n",
    "    print(f'The word was: \"{game.word}\".')\n",
    "\n",
    "def play_game_manual(length=5):\n",
    "    agent = Agent(length=length)\n",
    "\n",
    "    print(f'Starting a game with a {length}-letter word.')\n",
    "    while True:\n",
    "        word = agent.guess()\n",
    "        print(word)\n",
    "        input('...')\n",
    "        score = input('Enter the score: ')\n",
    "        if score.isnumeric():\n",
    "            guess_result = []\n",
    "            for i, letter in enumerate(word):\n",
    "                guess_result.append((int(score[i]), letter))\n",
    "            agent.update_with_guess_result(guess_result)\n",
    "            print(pretty_guess_result(guess_result))\n",
    "\n",
    "\n",
    "play_game_simple()\n",
    "# play_game_manual(length=10)"
   ]
  }
 ],
 "metadata": {
  "interpreter": {
   "hash": "112989f40982219f9c2133127490be09f86560db102a13a350eb86b01002b443"
  },
  "kernelspec": {
   "display_name": "Python 3.8.5 ('base')",
   "language": "python",
   "name": "python3"
  },
  "language_info": {
   "codemirror_mode": {
    "name": "ipython",
    "version": 3
   },
   "file_extension": ".py",
   "mimetype": "text/x-python",
   "name": "python",
   "nbconvert_exporter": "python",
   "pygments_lexer": "ipython3",
   "version": "3.8.5"
  },
  "orig_nbformat": 4
 },
 "nbformat": 4,
 "nbformat_minor": 2
}
