{
 "cells": [
  {
   "cell_type": "code",
   "execution_count": 1,
   "metadata": {},
   "outputs": [
    {
     "name": "stdout",
     "output_type": "stream",
     "text": [
      "--2022-02-08 13:18:47--  https://raw.githubusercontent.com/dwyl/english-words/master/words_alpha.txt\n",
      "Resolving raw.githubusercontent.com (raw.githubusercontent.com)... 185.199.108.133, 185.199.111.133, 185.199.110.133, ...\n",
      "Connecting to raw.githubusercontent.com (raw.githubusercontent.com)|185.199.108.133|:443... connected.\n",
      "HTTP request sent, awaiting response... 200 OK\n",
      "Length: 4234901 (4.0M) [text/plain]\n",
      "Saving to: ‘words.txt’\n",
      "\n",
      "words.txt           100%[===================>]   4.04M  14.0MB/s    in 0.3s    \n",
      "\n",
      "2022-02-08 13:18:48 (14.0 MB/s) - ‘words.txt’ saved [4234901/4234901]\n",
      "\n",
      "--2022-02-08 13:18:48--  http://www.mieliestronk.com/corncob_lowercase.txt\n",
      "Resolving www.mieliestronk.com (www.mieliestronk.com)... 52.218.106.156\n",
      "Connecting to www.mieliestronk.com (www.mieliestronk.com)|52.218.106.156|:80... connected.\n",
      "HTTP request sent, awaiting response... 200 OK\n",
      "Length: 600806 (587K) [text/plain]\n",
      "Saving to: ‘words_common.txt’\n",
      "\n",
      "words_common.txt    100%[===================>] 586.72K   889KB/s    in 0.7s    \n",
      "\n",
      "2022-02-08 13:18:49 (889 KB/s) - ‘words_common.txt’ saved [600806/600806]\n",
      "\n"
     ]
    }
   ],
   "source": [
    "! wget https://raw.githubusercontent.com/dwyl/english-words/master/words_alpha.txt -O words.txt\n",
    "! wget http://www.mieliestronk.com/corncob_lowercase.txt -O words_common.txt"
   ]
  },
  {
   "cell_type": "code",
   "execution_count": 398,
   "metadata": {},
   "outputs": [
    {
     "name": "stdout",
     "output_type": "stream",
     "text": [
      "There are 58110 words\n",
      "Word #1237 is \"airtime\".\n"
     ]
    }
   ],
   "source": [
    "# Read the dictionary into a list.\n",
    "with open('words_common.txt') as file:\n",
    "    ALL_WORDS = []\n",
    "    for line in file:\n",
    "        ALL_WORDS.append(line.rstrip())\n",
    "\n",
    "print(f'There are {len(ALL_WORDS)} words')\n",
    "print(f'Word #1237 is \"{ALL_WORDS[1237]}\".')"
   ]
  },
  {
   "cell_type": "code",
   "execution_count": 3,
   "metadata": {},
   "outputs": [
    {
     "name": "stdout",
     "output_type": "stream",
     "text": [
      "1-letter words: 0\n",
      "2-letter words: 47\n",
      "3-letter words: 589\n",
      "4-letter words: 2294\n",
      "5-letter words: 4266\n",
      "6-letter words: 6936\n",
      "7-letter words: 9203\n",
      "8-letter words: 9395\n",
      "9-letter words: 7696\n",
      "10-letter words: 6377\n",
      "11-letter words: 4557\n",
      "12-letter words: 3101\n",
      "13-letter words: 1880\n",
      "14-letter words: 924\n"
     ]
    }
   ],
   "source": [
    "def filter_by_length(words, length):\n",
    "    return set(filter(lambda x: len(x) == length, words))\n",
    "\n",
    "for i in range(1,15):\n",
    "    print(f'{i}-letter words: {len(filter_by_length(ALL_WORDS, i))}')"
   ]
  },
  {
   "cell_type": "code",
   "execution_count": 4,
   "metadata": {},
   "outputs": [
    {
     "name": "stdout",
     "output_type": "stream",
     "text": [
      "Words with at least 4 z's in them: {'razzmatazz'}.\n",
      "Words with at least 4 z's in them AND no p's: {'razzmatazz'}.\n"
     ]
    }
   ],
   "source": [
    "def filter_by_minimum(words, letter, minimum=1):\n",
    "    return set(filter(lambda x: x.count(letter) >= minimum, words))\n",
    "\n",
    "def filter_by_maximum(words, letter, maximum):\n",
    "    return set(filter(lambda x: x.count(letter) <= maximum, words))\n",
    "\n",
    "print(f'Words with at least 4 z\\'s in them: {filter_by_minimum(ALL_WORDS, \"z\", minimum=4)}.')\n",
    "\n",
    "print(f'Words with at least 4 z\\'s in them AND no p\\'s: {filter_by_maximum(filter_by_minimum(ALL_WORDS, \"z\", minimum=4), \"p\", maximum=0)}.')"
   ]
  },
  {
   "cell_type": "code",
   "execution_count": 5,
   "metadata": {},
   "outputs": [
    {
     "name": "stdout",
     "output_type": "stream",
     "text": [
      "Words with an \"x\" in the 17th place: set()\n",
      "Words with an \"x\" in the 17th place without an \"h\" in the first place: set()\n"
     ]
    }
   ],
   "source": [
    "def filter_by_position(words, letter, position):\n",
    "    return set(filter(lambda x: position < len(x) and x[position] == letter, words))\n",
    "\n",
    "def filter_by_not_position(words, letter, position):\n",
    "    return set(filter(lambda x: position >= len(x) or x[position] != letter, words))\n",
    "\n",
    "print(f'Words with an \"x\" in the 17th place: {filter_by_position(ALL_WORDS, \"x\", 16)}')\n",
    "print(f'Words with an \"x\" in the 17th place without an \"h\" in the first place: {filter_by_not_position(filter_by_position(ALL_WORDS, \"x\", 16), \"h\", 0)}')"
   ]
  },
  {
   "cell_type": "code",
   "execution_count": 114,
   "metadata": {},
   "outputs": [],
   "source": [
    "import random\n",
    "import string\n",
    "\n",
    "class Wordle:\n",
    "\n",
    "    def __init__(self, length=5, word=None):\n",
    "        if word is None:\n",
    "            self.word = random.choice(list(filter_by_length(ALL_WORDS, length)))\n",
    "        else:\n",
    "            self.word = word\n",
    "\n",
    "    def __get_letter_count(self):\n",
    "        return {x: self.word.count(x) for x in string.ascii_lowercase}\n",
    "\n",
    "    def guess(self, guess):\n",
    "        assert(len(guess) == len(self.word))\n",
    "        letter_count = self.__get_letter_count()\n",
    "        result = [None] * len(self.word)\n",
    "        # Add correct guesses to result first.\n",
    "        for i, letter in enumerate(guess):\n",
    "            if self.word[i] == letter:\n",
    "                result[i] = (0, letter)\n",
    "                letter_count[letter] -= 1\n",
    "        ## Add incorrect guesses to result.\n",
    "        for i, letter in enumerate(guess):\n",
    "            if result[i] == None:\n",
    "                if letter_count[letter] > 0:\n",
    "                    result[i] = (1, letter)\n",
    "                else:\n",
    "                    result[i] = (2, letter)\n",
    "                letter_count[letter] -= 1\n",
    "        return result\n"
   ]
  },
  {
   "cell_type": "code",
   "execution_count": 115,
   "metadata": {},
   "outputs": [
    {
     "name": "stdout",
     "output_type": "stream",
     "text": [
      "The word is grail.\n",
      "\u001b[31ms\u001b[0m\u001b[31mk\u001b[0m\u001b[33mi\u001b[0m\u001b[31me\u001b[0m\u001b[33mr\u001b[0m\n",
      "\u001b[31mw\u001b[0m\u001b[33ma\u001b[0m\u001b[31mt\u001b[0m\u001b[31mc\u001b[0m\u001b[31mh\u001b[0m\n",
      "\u001b[31mb\u001b[0m\u001b[31mu\u001b[0m\u001b[31mm\u001b[0m\u001b[31mp\u001b[0m\u001b[31my\u001b[0m\n",
      "\u001b[33ml\u001b[0m\u001b[31mo\u001b[0m\u001b[31md\u001b[0m\u001b[33mg\u001b[0m\u001b[31me\u001b[0m\n"
     ]
    }
   ],
   "source": [
    "from termcolor import colored\n",
    "\n",
    "def pretty_guess_result(guess_result):\n",
    "    colors = {0: 'green', 1: 'yellow', 2: 'red'}\n",
    "    result = ''\n",
    "    for guess in guess_result:\n",
    "        result += colored(guess[1], colors[guess[0]])\n",
    "    return result\n",
    "\n",
    "game = Wordle()\n",
    "\n",
    "print(f'The word is {game.word}.')\n",
    "print(pretty_guess_result(game.guess('skier')))\n",
    "print(pretty_guess_result(game.guess('watch')))\n",
    "print(pretty_guess_result(game.guess('bumpy')))\n",
    "print(pretty_guess_result(game.guess('lodge')))\n"
   ]
  },
  {
   "cell_type": "code",
   "execution_count": 400,
   "metadata": {},
   "outputs": [],
   "source": [
    "import math\n",
    "\n",
    "def update_words_remaining(words, guess_result):\n",
    "    min_count = {}\n",
    "    max_count = {}\n",
    "    for i, letter_guess in enumerate(guess_result):\n",
    "        score = letter_guess[0]\n",
    "        letter = letter_guess[1]\n",
    "        # Filter correct letters\n",
    "        if score == 0:\n",
    "            # print(f'...filtering words without \"{letter}\" in position {i}')\n",
    "            words = filter_by_position(words, letter, i)\n",
    "        # Count correct and partially correct letters\n",
    "        if score <= 1:\n",
    "            min_count[letter] = min_count.get(letter, 0) + 1\n",
    "            if letter in max_count:\n",
    "                max_count[letter] = min_count[letter]\n",
    "        elif score == 2:\n",
    "            max_count[letter] = min_count.get(letter, 0)\n",
    "    for letter in min_count.keys():\n",
    "        # print(f'...filtering by minimum {min_count[letter]} of \"{letter}\"')\n",
    "        words = filter_by_minimum(words, letter, min_count[letter])\n",
    "    for letter in max_count.keys():\n",
    "        # print(f'...filtering by maximum {max_count[letter]} of \"{letter}\"')\n",
    "        words = filter_by_maximum(words, letter, max_count[letter])\n",
    "    return words\n",
    "\n",
    "def entropy(words, all_words, depth, explore, detail):\n",
    "    best_score = math.inf\n",
    "    best_word = None\n",
    "    num_words = len(words)\n",
    "    assert(num_words > 0)\n",
    "    explore_words = random.sample(list(all_words), min(len(all_words), explore))\n",
    "    explore_words = list(filter(lambda x: x not in words, explore_words))\n",
    "    word_list = random.sample(list(words), min(len(words), depth)) + explore_words\n",
    "    for guess in word_list:\n",
    "        score = 0\n",
    "        skip = False\n",
    "        answer_list = random.sample(list(words), min(detail, len(words)))\n",
    "        entropic_guesses = 0\n",
    "        for answer in answer_list:\n",
    "            guess_score = (len(update_words_remaining(words, Wordle(word=answer).guess(guess))) / num_words) / detail\n",
    "            score += guess_score\n",
    "            if guess_score > 0:\n",
    "                entropic_guesses += 1\n",
    "            if score > best_score:\n",
    "                skip = True\n",
    "                break\n",
    "        score *= detail\n",
    "        if entropic_guesses == 0:\n",
    "            score = math.inf\n",
    "        else:\n",
    "            score /= entropic_guesses\n",
    "        if not skip:\n",
    "            if guess in words:\n",
    "                print(colored(f'{guess}: {score}', 'blue'))\n",
    "        if not skip and (score < best_score or (score == best_score and guess not in explore_words)):\n",
    "            best_score = score\n",
    "            best_word = guess\n",
    "    return (best_word, best_score)\n",
    "\n",
    "# entropy(filter_by_length(ALL_WORDS, 5), all_words=None, depth=2000, detail=100)\n",
    "\n",
    "\n"
   ]
  },
  {
   "cell_type": "code",
   "execution_count": 462,
   "metadata": {},
   "outputs": [],
   "source": [
    "def entropy_single_word(word, all_words, detail=None):\n",
    "    if detail is None:\n",
    "        detail = len(all_words)\n",
    "    detail = min(len(all_words), detail)\n",
    "    score = 0\n",
    "    answer_list = random.sample(list(all_words), detail)\n",
    "    for answer in answer_list:\n",
    "        score += (len(update_words_remaining(all_words, Wordle(word=answer).guess(word))) / len(all_words)) / detail\n",
    "    return score"
   ]
  },
  {
   "cell_type": "code",
   "execution_count": null,
   "metadata": {},
   "outputs": [],
   "source": [
    "best = (None, 0)\n",
    "\n",
    "five_letter_words = filter_by_length(ALL_WORDS, 5)\n",
    "for i, word in enumerate(five_letter_words):\n",
    "    if i % 100 == 0:\n",
    "        print(f'{100 * i // len(five_letter_words)}% - {i}/{len(five_letter_words)}')\n",
    "    score = entropy_single_word(word, all_words=five_letter_words, detail=10)\n",
    "    if score >= best[1]:\n",
    "        best = (word, score)\n",
    "        print(best)"
   ]
  },
  {
   "cell_type": "code",
   "execution_count": 463,
   "metadata": {},
   "outputs": [
    {
     "name": "stdout",
     "output_type": "stream",
     "text": [
      "Beginning iteration (200, 20)...\n",
      "0% - 0/4266\n",
      "10% - 427/4266\n",
      "20% - 854/4266\n",
      "30% - 1280/4266\n",
      "40% - 1707/4266\n",
      "50% - 2133/4266\n",
      "60% - 2560/4266\n",
      "70% - 2987/4266\n",
      "80% - 3413/4266\n",
      "90% - 3840/4266\n",
      "[(0.021530707923112985, 'reads'), (0.023101265822784815, 'roles'), (0.024074074074074074, 'inset'), (0.025421940928270038, 'tears'), (0.025656352555086727, 'lanes'), (0.02584388185654008, 'serai'), (0.026300984528832626, 'scare'), (0.026769807782466012, 'sonar'), (0.02750820440693858, 'token'), (0.027719174871073605, 'rails')]\n",
      "Beginning iteration (100, 40)...\n",
      "0% - 0/200\n",
      "10% - 20/200\n",
      "20% - 40/200\n",
      "30% - 60/200\n",
      "40% - 80/200\n",
      "50% - 100/200\n",
      "60% - 120/200\n",
      "70% - 140/200\n",
      "80% - 160/200\n",
      "90% - 180/200\n",
      "[(0.026922175339896864, 'saner'), (0.02709798406000938, 'reals'), (0.02799460853258321, 'rates'), (0.028129395218002805, 'tares'), (0.028580637599624946, 'aloes'), (0.028598218471636197, 'serai'), (0.029002578527894982, 'tears'), (0.029424519456165022, 'raise'), (0.030250820440693865, 'tries'), (0.03155180496952648, 'lairs')]\n",
      "Beginning iteration (50, 100)...\n",
      "0% - 0/100\n",
      "10% - 10/100\n",
      "20% - 20/100\n",
      "30% - 30/100\n",
      "40% - 40/100\n",
      "50% - 50/100\n",
      "60% - 60/100\n",
      "70% - 70/100\n",
      "80% - 80/100\n",
      "90% - 90/100\n",
      "[(0.027119081106422877, 'rates'), (0.03030707923112988, 'serai'), (0.031378340365682135, 'tears'), (0.03181669010782936, 'reals'), (0.032283169245194566, 'dears'), (0.032323019221753416, 'slate'), (0.03235349273323957, 'laser'), (0.03245897796530707, 'earls'), (0.033122362869198306, 'riles'), (0.03322550398499766, 'stare')]\n",
      "Beginning iteration (20, 1000)...\n",
      "0% - 0/50\n",
      "10% - 5/50\n",
      "20% - 10/50\n",
      "30% - 15/50\n",
      "40% - 20/50\n",
      "50% - 25/50\n",
      "60% - 30/50\n",
      "70% - 35/50\n",
      "80% - 40/50\n",
      "90% - 45/50\n",
      "[(0.03293061415846221, 'reals'), (0.03301992498827946, 'tares'), (0.034345053914674226, 'rates'), (0.034435771214252196, 'raise'), (0.034531879981246995, 'earls'), (0.03453492733239562, 'stare'), (0.03456610407876231, 'tears'), (0.03461486169714014, 'serai'), (0.034695499296765166, 'aloes'), (0.03472808251289262, 'saner')]\n",
      "Beginning iteration (5, 5000)...\n",
      "0% - 0/20\n",
      "10% - 2/20\n",
      "20% - 4/20\n",
      "30% - 6/20\n",
      "40% - 8/20\n",
      "50% - 10/20\n",
      "60% - 12/20\n",
      "70% - 14/20\n",
      "80% - 16/20\n",
      "90% - 18/20\n",
      "[(0.03285905915767, 'tares'), (0.033282879335268835, 'reals'), (0.033417284126453645, 'rates'), (0.03427151833894557, 'tears'), (0.03427695827121386, 'serai'), (0.03448389549263692, 'saner'), (0.03451587570051452, 'earls'), (0.03500750271062498, 'raise'), (0.03516102968796359, 'tales'), (0.035189932762437426, 'aloes')]\n"
     ]
    }
   ],
   "source": [
    "import heapq as hq\n",
    "\n",
    "iterations = [(200, 20), (100, 40), (50, 100), (20, 1000), (5, 5000)]\n",
    "\n",
    "five_letter_words = filter_by_length(ALL_WORDS, 5)\n",
    "words = set.copy(five_letter_words)\n",
    "for params in iterations:\n",
    "    print(f'Beginning iteration {params}...')\n",
    "    max_count = params[0]\n",
    "    detail = params[1]\n",
    "\n",
    "    min_heap = []\n",
    "    prev_percent = None\n",
    "    for i, word in enumerate(words):\n",
    "        percent = (100 * i) // len(words)\n",
    "        if percent % 10 == 0 and percent != prev_percent:\n",
    "            print(f'{100 * i // len(words)}% - {i}/{len(words)}')\n",
    "        prev_percent = percent\n",
    "        score = entropy_single_word(word, all_words=five_letter_words, detail=detail)\n",
    "        hq.heappush(min_heap, (score, word))\n",
    "\n",
    "    words = set()\n",
    "    print(hq.nsmallest(10, min_heap))\n",
    "    while len(min_heap) != 0 and len(words) < max_count:\n",
    "        words.add(hq.heappop(min_heap)[1])"
   ]
  },
  {
   "cell_type": "code",
   "execution_count": 469,
   "metadata": {},
   "outputs": [
    {
     "name": "stdout",
     "output_type": "stream",
     "text": [
      "['saner', 'earls', 'stare', 'raise', 'laser', 'snare', 'nears', 'aloes', 'tales', 'arose', 'roles', 'slate', 'riles', 'arise', 'soler']\n"
     ]
    }
   ],
   "source": [
    "\"\"\"\n",
    "[(0.03448389549263692, 'saner'), (0.03451587570051452, 'earls'), (0.035463687737776604, 'stare'),\n",
    "(0.03500750271062498, 'raise'), (0.035267355636835744, 'laser'), (0.036971977645065136, 'snare'),\n",
    "(0.03614521783796628, 'nears'), (0.035189932762437426, 'aloes'), (0.03516102968796359, 'tales'),\n",
    "(0.03724023773932701, 'arose'), (0.037562897156267205, 'roles'), (0.037007474576834, 'slate'),\n",
    "(0.03809090027911765, 'riles'), (0.03714979199677189, 'arise'), (0.03748921080100174, 'soler')]\n",
    "\"\"\"\n",
    "BEST_FIRST_5_LETTER_CHOICES = [x[1] for x in min_heap]\n",
    "print(BEST_FIRST_5_LETTER_CHOICES)"
   ]
  },
  {
   "cell_type": "code",
   "execution_count": 480,
   "metadata": {},
   "outputs": [
    {
     "name": "stdout",
     "output_type": "stream",
     "text": [
      "Starting a game with a 5-letter word.\n",
      "\u001b[33ms\u001b[0m\u001b[31mo\u001b[0m\u001b[31ml\u001b[0m\u001b[32me\u001b[0m\u001b[31mr\u001b[0m\n",
      "\u001b[34mcanes: 0.2397701149425287\u001b[0m\n",
      "\u001b[34mhades: 0.22051724137931022\u001b[0m\n",
      "\u001b[34msafes: 0.21218390804597725\u001b[0m\n",
      "\u001b[34mtakes: 0.2070689655172414\u001b[0m\n",
      "\u001b[34msines: 0.2016666666666665\u001b[0m\n",
      "\u001b[34mmates: 0.19022988505747143\u001b[0m\n",
      "\u001b[34mandes: 0.18701149425287367\u001b[0m\n",
      "\u001b[34mtides: 0.17793103448275854\u001b[0m\n",
      "\u001b[34msited: 0.16965517241379324\u001b[0m\n",
      "\u001b[34msated: 0.16022988505747138\u001b[0m\n",
      "\u001b[34mdates: 0.15994252873563228\u001b[0m\n",
      "\u001b[32ma\u001b[0m\u001b[33md\u001b[0m\u001b[31mm\u001b[0m\u001b[33mi\u001b[0m\u001b[31mn\u001b[0m\n",
      "\u001b[34maides: 1.0\u001b[0m\n",
      "\u001b[32ma\u001b[0m\u001b[32mi\u001b[0m\u001b[32md\u001b[0m\u001b[32me\u001b[0m\u001b[32ms\u001b[0m\n",
      "The word was: \"aides\".\n"
     ]
    }
   ],
   "source": [
    "class Agent:\n",
    "    def __init__(self, length=5):\n",
    "        self.starting_words = filter_by_length(ALL_WORDS, length)\n",
    "        self.words_remaining = filter_by_length(ALL_WORDS, length)\n",
    "\n",
    "    def guess(self):\n",
    "        return random.choice(list(self.words_remaining))\n",
    "\n",
    "    def guess_smart(self, depth, explore, detail):\n",
    "        return entropy(self.words_remaining, self.starting_words, depth, explore, detail)[0]\n",
    "    \n",
    "    def update_with_guess_result(self, guess_result):\n",
    "        self.words_remaining = update_words_remaining(self.words_remaining, guess_result)\n",
    "        \n",
    "\n",
    "def play_game_simple(length=5):\n",
    "    game = Wordle(length=length)\n",
    "    agent = Agent(length=length)\n",
    "\n",
    "    turn = 0\n",
    "    print(f'Starting a game with a {length}-letter word.')\n",
    "    while True:\n",
    "        if turn == 0 and length == 5:\n",
    "            word = random.choice(BEST_FIRST_5_LETTER_CHOICES)\n",
    "        else:\n",
    "            word = agent.guess_smart(depth=1000, explore=1000, detail=100)\n",
    "        result = game.guess(word)\n",
    "        agent.update_with_guess_result(result)\n",
    "        print(pretty_guess_result(result))\n",
    "        if word == game.word:\n",
    "            break\n",
    "        turn += 1\n",
    "\n",
    "\n",
    "    print(f'The word was: \"{game.word}\".')\n",
    "\n",
    "def play_game_manual(length=5):\n",
    "    agent = Agent(length=length)\n",
    "\n",
    "    print(f'Starting a game with a {length}-letter word.')\n",
    "    while True:\n",
    "        word = agent.guess()\n",
    "        print(word)\n",
    "        input('...')\n",
    "        score = input('Enter the score: ')\n",
    "        if score.isnumeric():\n",
    "            guess_result = []\n",
    "            for i, letter in enumerate(word):\n",
    "                guess_result.append((int(score[i]), letter))\n",
    "            agent.update_with_guess_result(guess_result)\n",
    "            print(pretty_guess_result(guess_result))\n",
    "\n",
    "\n",
    "play_game_simple(length=5)\n",
    "# play_game_manual(length=10)"
   ]
  },
  {
   "cell_type": "code",
   "execution_count": 387,
   "metadata": {},
   "outputs": [],
   "source": [
    "ALL_WORDS = ['went', 'vent', 'bent', 'dent', 'ment', 'cats', 'dogs', 'leap', 'poop', 'meow', 'aoet', 'trip', 'xxxx', 'wvbd', 'bump', 'ququ']\n",
    "\n"
   ]
  },
  {
   "cell_type": "code",
   "execution_count": null,
   "metadata": {},
   "outputs": [],
   "source": [
    "\"\"\"\n",
    "Words remaining:\n",
    "boy bat bit cat car cot coy\n",
    "\n",
    "Letter -->  Split\n",
    "------------------\n",
    "b _ _  -->  3 : 4\n",
    "c _ _  -->  4 : 3\n",
    "_ o _  -->  3 : 4\n",
    "_ a _  -->  3 : 4\n",
    "_ i _  -->  1 : 6\n",
    "_ _ y  -->  2 : 5\n",
    "_ _ t  -->  4 : 3\n",
    "_ _ r  -->  1 : 6\n",
    "\n",
    "len = 7\n",
    "half = 3.5\n",
    "3\n",
    "\"\"\"\n"
   ]
  }
 ],
 "metadata": {
  "interpreter": {
   "hash": "112989f40982219f9c2133127490be09f86560db102a13a350eb86b01002b443"
  },
  "kernelspec": {
   "display_name": "Python 3.8.5 ('base')",
   "language": "python",
   "name": "python3"
  },
  "language_info": {
   "codemirror_mode": {
    "name": "ipython",
    "version": 3
   },
   "file_extension": ".py",
   "mimetype": "text/x-python",
   "name": "python",
   "nbconvert_exporter": "python",
   "pygments_lexer": "ipython3",
   "version": "3.8.5"
  },
  "orig_nbformat": 4
 },
 "nbformat": 4,
 "nbformat_minor": 2
}
